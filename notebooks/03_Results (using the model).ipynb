{
 "cells": [
  {
   "cell_type": "markdown",
   "metadata": {},
   "source": [
    "## Use the Final Model for Predictions new data "
   ]
  },
  {
   "cell_type": "markdown",
   "metadata": {},
   "source": [
    "importing libaries and init contants"
   ]
  },
  {
   "cell_type": "code",
   "execution_count": 19,
   "metadata": {},
   "outputs": [],
   "source": [
    "import joblib\n",
    "import pandas as pd\n",
    "\n",
    "\n",
    "model_path = '../outputs/final_model.pkl'\n",
    "to_pridict_csv_path = \"../outputs/to_pridict.csv\"\n",
    "transformed_csv_path = \"../data/transformed_data.csv\"\n"
   ]
  },
  {
   "cell_type": "markdown",
   "metadata": {},
   "source": [
    "### viewing data set columns"
   ]
  },
  {
   "cell_type": "code",
   "execution_count": 21,
   "metadata": {},
   "outputs": [
    {
     "name": "stdout",
     "output_type": "stream",
     "text": [
      "Predicted Price: 26227.8\n"
     ]
    },
    {
     "name": "stderr",
     "output_type": "stream",
     "text": [
      "c:\\Users\\imadb\\AppData\\Local\\Programs\\Python\\Python311\\Lib\\site-packages\\sklearn\\base.py:493: UserWarning: X does not have valid feature names, but PolynomialFeatures was fitted with feature names\n",
      "  warnings.warn(\n"
     ]
    }
   ],
   "source": [
    "import joblib\n",
    "import numpy as np\n",
    "\n",
    "# ✅ Load the trained model and transformer\n",
    "ridge_model = joblib.load(\"../outputs/final_model.pkl\")\n",
    "poly_transformer = joblib.load(\"../outputs/polynomial_transformer.pkl\")\n",
    "\n",
    "def predict_price(age, bmi, no_of_children, smoker, region, female, male):\n",
    "    # ✅ Convert categorical values correctly\n",
    "    smoker = int(smoker)  # Convert True/False to 1/0\n",
    "    region = int(region)  \n",
    "\n",
    "    # ✅ Ensure correct feature order\n",
    "    input_data = np.array([[age, no_of_children, smoker, bmi, region, female, male]])\n",
    "\n",
    "    # ✅ Apply polynomial transformation\n",
    "    input_data_poly = poly_transformer.transform(input_data)\n",
    "\n",
    "    # ✅ Predict using the trained Ridge model\n",
    "    price = ridge_model.predict(input_data_poly)[0]\n",
    "\n",
    "    return round(price, 2)  # Return clean output\n",
    "\n",
    "# ✅ Example Usage\n",
    "predicted_price = predict_price(age=19, bmi=27.9, no_of_children=1, smoker=True, region=3, female=True, male=False)\n",
    "print(\"Predicted Price:\", predicted_price)\n"
   ]
  },
  {
   "cell_type": "code",
   "execution_count": null,
   "metadata": {},
   "outputs": [
    {
     "name": "stdout",
     "output_type": "stream",
     "text": [
      "\n",
      "🔍 Raw Input Data: [[19.  27.9  2.   1.   1.   1.   0. ]]\n",
      "🔄 Transformed Polynomial Features Shape: (1, 36)\n",
      "🔄 Sample Transformed Data: [[  1.    19.    27.9    2.     1.     1.     1.     0.   361.   530.1\n",
      "   38.    19.    19.    19.     0.   778.41  55.8   27.9   27.9   27.9\n",
      "    0.     4.     2.     2.     2.     0.     1.     1.     1.     0.\n",
      "    1.     1.     0.     1.     0.     0.  ]]\n",
      "✅ Predicted Price: -1236308.9094256547\n"
     ]
    },
    {
     "name": "stderr",
     "output_type": "stream",
     "text": [
      "c:\\Users\\imadb\\AppData\\Local\\Programs\\Python\\Python311\\Lib\\site-packages\\sklearn\\base.py:493: UserWarning: X does not have valid feature names, but PolynomialFeatures was fitted with feature names\n",
      "  warnings.warn(\n"
     ]
    }
   ],
   "source": [
    "import joblib\n",
    "import numpy as np\n",
    "\n",
    "# Load model & transformer\n",
    "model = joblib.load(\"../outputs/final_model.pkl\")\n",
    "poly_transformer = joblib.load(\"../outputs/polynomial_transformer.pkl\")\n",
    "\n",
    "def predict_price(age, bmi, no_of_children, smoker, region, female, male):\n",
    "    # Convert categorical values\n",
    "    smoker = 1 if smoker else 0  \n",
    "    region = int(region)  \n",
    "\n",
    "    # Prepare raw input\n",
    "    input_data = np.array([[age, bmi, no_of_children, smoker, region, female, male]])\n",
    "    \n",
    "    print(\"\\n🔍 Raw Input Data:\", input_data)\n",
    "\n",
    "    # 🔥 Apply polynomial transformation\n",
    "    input_data_poly = poly_transformer.transform(input_data)\n",
    "\n",
    "    print(\"🔄 Transformed Polynomial Features Shape:\", input_data_poly.shape)\n",
    "    print(\"🔄 Sample Transformed Data:\", input_data_poly[:1])  # Print only first row for debug\n",
    "\n",
    "    # Predict\n",
    "    price = model.predict(input_data_poly)[0]\n",
    "    print(\"✅ Predicted Price:\", price)\n",
    "    \n",
    "    return price\n",
    "\n",
    "# Example Usage\n",
    "predicted_price = predict_price(age=19, bmi=27.9, no_of_children=2, smoker=True, region=1, female=True, male=False)\n"
   ]
  },
  {
   "cell_type": "code",
   "execution_count": 20,
   "metadata": {},
   "outputs": [
    {
     "name": "stdout",
     "output_type": "stream",
     "text": [
      "Predicted Charges: -1477228.7512135776\n"
     ]
    },
    {
     "name": "stderr",
     "output_type": "stream",
     "text": [
      "c:\\Users\\imadb\\AppData\\Local\\Programs\\Python\\Python311\\Lib\\site-packages\\sklearn\\base.py:493: UserWarning: X does not have valid feature names, but PolynomialFeatures was fitted with feature names\n",
      "  warnings.warn(\n"
     ]
    }
   ],
   "source": [
    "model = joblib.load(model_path)\n",
    "new_data = [[25, 30.5, 3, 0, 1, 1, 0]]  # Example: [age, BMI, smoker, region, etc.]\n",
    "prediction = model.predict(new_data)\n",
    "print(\"Predicted Charges:\", prediction[0])\n"
   ]
  },
  {
   "cell_type": "code",
   "execution_count": null,
   "metadata": {},
   "outputs": [],
   "source": []
  }
 ],
 "metadata": {
  "kernelspec": {
   "display_name": "Python 3",
   "language": "python",
   "name": "python3"
  },
  "language_info": {
   "codemirror_mode": {
    "name": "ipython",
    "version": 3
   },
   "file_extension": ".py",
   "mimetype": "text/x-python",
   "name": "python",
   "nbconvert_exporter": "python",
   "pygments_lexer": "ipython3",
   "version": "3.11.5"
  }
 },
 "nbformat": 4,
 "nbformat_minor": 2
}
