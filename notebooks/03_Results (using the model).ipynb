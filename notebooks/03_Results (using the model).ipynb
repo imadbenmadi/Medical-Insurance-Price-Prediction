{
 "cells": [
  {
   "cell_type": "markdown",
   "metadata": {},
   "source": [
    "## Use the Final Model for Predictions new data "
   ]
  },
  {
   "cell_type": "markdown",
   "metadata": {},
   "source": [
    "importing libaries and init contants"
   ]
  },
  {
   "cell_type": "code",
   "execution_count": null,
   "metadata": {},
   "outputs": [],
   "source": [
    "import joblib\n",
    "import pandas as pd\n",
    "\n",
    "\n",
    "model_path = '../outputs/final_model.pkl'\n",
    "transformed_csv_path = \"../data/transformed_data.csv\"\n"
   ]
  },
  {
   "cell_type": "markdown",
   "metadata": {},
   "source": [
    "**Manual Decalration of module use**"
   ]
  },
  {
   "cell_type": "code",
   "execution_count": null,
   "metadata": {},
   "outputs": [
    {
     "name": "stdout",
     "output_type": "stream",
     "text": [
      "Predicted Price: 26227.8\n"
     ]
    },
    {
     "name": "stderr",
     "output_type": "stream",
     "text": [
      "c:\\Users\\imadb\\AppData\\Local\\Programs\\Python\\Python311\\Lib\\site-packages\\sklearn\\base.py:493: UserWarning: X does not have valid feature names, but PolynomialFeatures was fitted with feature names\n",
      "  warnings.warn(\n"
     ]
    }
   ],
   "source": [
    "import joblib\n",
    "import numpy as np\n",
    "\n",
    "#  Load the trained model and transformer\n",
    "ridge_model = joblib.load(\"../outputs/final_model.pkl\")\n",
    "poly_transformer = joblib.load(\"../outputs/polynomial_transformer.pkl\")\n",
    "\n",
    "def predict_price(age, bmi, no_of_children, smoker, region, female, male):\n",
    "    #  Convert categorical values correctly\n",
    "    smoker = int(smoker)  # Convert True/False to 1/0\n",
    "    region = int(region)  \n",
    "\n",
    "    #  Ensure correct feature order\n",
    "    input_data = np.array([[age, no_of_children, smoker, bmi, region, female, male]])\n",
    "\n",
    "    #  Apply polynomial transformation\n",
    "    input_data_poly = poly_transformer.transform(input_data)\n",
    "\n",
    "    #  Predict using the trained Ridge model\n",
    "    price = ridge_model.predict(input_data_poly)[0]\n",
    "\n",
    "    return round(price, 2)  # Return clean output\n",
    "\n",
    "#  Example Usage\n",
    "predicted_price = predict_price(age=19, bmi=27.9, no_of_children=1, smoker=True, region=3, female=True, male=False)\n",
    "print(\"Predicted Price:\", predicted_price)\n"
   ]
  },
  {
   "cell_type": "markdown",
   "metadata": {},
   "source": [
    "**calling the module src.insurance_model to use the model**"
   ]
  },
  {
   "cell_type": "code",
   "execution_count": null,
   "metadata": {},
   "outputs": [
    {
     "name": "stdout",
     "output_type": "stream",
     "text": [
      "Predicted Price: 26227.8\n"
     ]
    },
    {
     "name": "stderr",
     "output_type": "stream",
     "text": [
      "c:\\Users\\imadb\\AppData\\Local\\Programs\\Python\\Python311\\Lib\\site-packages\\sklearn\\base.py:493: UserWarning: X does not have valid feature names, but PolynomialFeatures was fitted with feature names\n",
      "  warnings.warn(\n"
     ]
    }
   ],
   "source": [
    "import sys\n",
    "import os\n",
    "\n",
    "# Add the 'src' folder to sys.path\n",
    "sys.path.append(os.path.abspath(\"src\"))\n",
    "\n",
    "import insurance_model\n",
    "\n",
    "predicted_price = insurance_model.insurance_model.predict(\n",
    "    age=19, bmi=27.9, no_of_children=1, smoker=True, region=3,\n",
    "      female=True, male=False\n",
    ")\n",
    "\n",
    "print(\"Predicted Price:\", predicted_price)\n"
   ]
  }
 ],
 "metadata": {
  "kernelspec": {
   "display_name": "Python 3",
   "language": "python",
   "name": "python3"
  },
  "language_info": {
   "codemirror_mode": {
    "name": "ipython",
    "version": 3
   },
   "file_extension": ".py",
   "mimetype": "text/x-python",
   "name": "python",
   "nbconvert_exporter": "python",
   "pygments_lexer": "ipython3",
   "version": "3.11.5"
  }
 },
 "nbformat": 4,
 "nbformat_minor": 2
}
